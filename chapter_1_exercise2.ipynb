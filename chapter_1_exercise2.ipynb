{
 "cells": [
  {
   "cell_type": "markdown",
   "metadata": {},
   "source": [
    "<h1>The Way of the Program</h1>"
   ]
  },
  {
   "cell_type": "markdown",
   "metadata": {},
   "source": [
    "<h2>Exercise 1-2.</h2>"
   ]
  },
  {
   "cell_type": "markdown",
   "metadata": {},
   "source": [
    "<h3>Start the Python interpreter and use it as a calculator.</h3>"
   ]
  },
  {
   "cell_type": "markdown",
   "metadata": {},
   "source": [
    "<h4>1. How many seconds are there in 42 minutes and 42 seconds?</h4>"
   ]
  },
  {
   "cell_type": "code",
   "execution_count": 1,
   "metadata": {},
   "outputs": [
    {
     "name": "stdout",
     "output_type": "stream",
     "text": [
      " 42 minutes and 42 seconds has total 2562 seconds.\n"
     ]
    }
   ],
   "source": [
    "# One minute has 60 seconds.\n",
    "t= (42*60) + 42\n",
    "print(f\" 42 minutes and 42 seconds has total {t} seconds.\")"
   ]
  },
  {
   "cell_type": "markdown",
   "metadata": {},
   "source": [
    "<h4>2. How many miles are there in 10 kilometers? </h4><h5>Hint: there are 1.61 kilometers in a mile.</h5>"
   ]
  },
  {
   "cell_type": "code",
   "execution_count": 4,
   "metadata": {},
   "outputs": [
    {
     "name": "stdout",
     "output_type": "stream",
     "text": [
      "6.211180124223602 miles are there in 10 kilometers.\n",
      "6.2112 miles\n"
     ]
    }
   ],
   "source": [
    "# Aahhh I think we can just divide 10 by 1.61, to get miles right??\n",
    "miles_in_10km = 10/1.61\n",
    "print(f\"{miles_in_10km} miles are there in 10 kilometers.\")\n",
    "\n",
    "rounded_miles_in_10km= round(miles_in_10km,4) # using round fuction to round up the value of mile cuz no one gonna read 15 digits after decimal.\n",
    "print(rounded_miles_in_10km,\"miles\") "
   ]
  },
  {
   "cell_type": "markdown",
   "metadata": {},
   "source": [
    "<h4>3. If you run a 10 kilometer race in 42 minutes 42 seconds, what is your average pace (time per mile in minutes and seconds)\n",
    "what is your average speed in miles per hour?</h4>"
   ]
  },
  {
   "cell_type": "code",
   "execution_count": 9,
   "metadata": {},
   "outputs": [
    {
     "name": "stdout",
     "output_type": "stream",
     "text": [
      "0.0024243559718969553 miles per second\n",
      "0.14546135831381732 miles per hour\n",
      "My average speed would be 0.1455 miles per hour.\n"
     ]
    }
   ],
   "source": [
    "#Damn this is a big question so i'll put a lot of comments in between.\n",
    "\n",
    "#first is I already calculated seconds in first question and stored it in t variable.\n",
    "#And also calculated miles in seconds question and stored it in variable as well.\n",
    "\n",
    "# So i traveled 6.2112 miles in 2562 seconds.\n",
    "# so my speed in miles per second should be 6.2112 / 2562 (as velocity = distance / time )\n",
    "\n",
    "miles_per_second= rounded_miles_in_10km / t # which is 0.0024243559718969553 or 0.002424 miles per second\n",
    "print(miles_per_second,\"miles per second\")\n",
    "\n",
    "# now what we got is in miles per second.\n",
    "# To convert it to miles per HOUR, we should multiply miles_per_second with 60, because that many seconds are there in an hour.\n",
    "miles_per_hour= miles_per_second *60\n",
    "print (miles_per_hour, \"miles per hour\") # I know it will be weird number so I will round it up to only 4 digits after decimals.\n",
    "\n",
    "rounded_miles_per_hour= round(miles_per_hour,4)\n",
    "\n",
    "print(f\"My average speed would be {rounded_miles_per_hour} miles per hour.\")"
   ]
  }
 ],
 "metadata": {
  "kernelspec": {
   "display_name": "Python 3",
   "language": "python",
   "name": "python3"
  },
  "language_info": {
   "codemirror_mode": {
    "name": "ipython",
    "version": 3
   },
   "file_extension": ".py",
   "mimetype": "text/x-python",
   "name": "python",
   "nbconvert_exporter": "python",
   "pygments_lexer": "ipython3",
   "version": "3.12.5"
  }
 },
 "nbformat": 4,
 "nbformat_minor": 2
}
