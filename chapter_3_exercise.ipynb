{
 "cells": [
  {
   "cell_type": "markdown",
   "metadata": {},
   "source": [
    "<h1>Functions<h1>"
   ]
  },
  {
   "cell_type": "markdown",
   "metadata": {},
   "source": [
    "<h2>Exercise 3-1</h2>"
   ]
  },
  {
   "cell_type": "markdown",
   "metadata": {},
   "source": [
    "<h4>Write a function named right_justify that takes a string named s as a parameter and prints the string with enough leading spaces so that the last lateer of the string is in column 70 of the display:</h4>"
   ]
  },
  {
   "cell_type": "code",
   "execution_count": null,
   "metadata": {},
   "outputs": [],
   "source": [
    "# Okay, so we have to make a function that prints string such last latter of the string is in column 70\n",
    "# Each charecter takes one column so first we should know how long a string is, then 70-length of string, and whaterver remains will be empty spaces before string.\n",
    "\n",
    "def right_justify (s): # s is the name of parameter according to question.\n",
    "    remaning_space= 70 - len(s) # len() function gives the length(total number of charecter) of string.\n",
    "\n",
    "    justified_string =\" \"*remaning_space + s\n",
    "     \n",
    "    # print(len(justified_string)) # just to make sure its 70 only.\n",
    "    print(justified_string)\n",
    "\n",
    "right_justify(\"Darsh\")"
   ]
  },
  {
   "cell_type": "markdown",
   "metadata": {},
   "source": [
    "<h2>Exercise 3-2</h2>"
   ]
  },
  {
   "cell_type": "markdown",
   "metadata": {},
   "source": [
    "This exercise is weird, am just going to do qustion 2 to 5"
   ]
  },
  {
   "cell_type": "markdown",
   "metadata": {},
   "source": [
    "<h4>2. Modify do_twice sothat it takes two arguments, a function and a value, and calls the function twice, passing the value as an argument.</h4>"
   ]
  },
  {
   "cell_type": "code",
   "execution_count": null,
   "metadata": {},
   "outputs": [],
   "source": [
    "#Whatever... I have to create two functions let's call them function A and B,\n",
    "#So function A will take an argument and print it. and I have to call A twice in function B. and B will take two argument first is function A and second is A's argument.\n",
    "#That's it right?? ok function B's name is do_twice.\n",
    "\n",
    "def function_a(something):\n",
    "    print(something)\n",
    "\n",
    "def do_twice(function, value):\n",
    "    function(value)\n",
    "    function(value)\n",
    "\n",
    "do_twice(function_a, \"I don't know why am doing this.\")"
   ]
  },
  {
   "cell_type": "markdown",
   "metadata": {},
   "source": [
    "<h4>3. Copy the definition of print_twice form erlier in this chapter to your script.</h4>"
   ]
  },
  {
   "cell_type": "code",
   "execution_count": 3,
   "metadata": {},
   "outputs": [],
   "source": [
    "#Okay.\n",
    "\n",
    "def print_twice(bruce):\n",
    "    print(bruce)\n",
    "    print(bruce)\n",
    "\n",
    "#Done."
   ]
  },
  {
   "cell_type": "markdown",
   "metadata": {},
   "source": [
    "<h4>4. Use the modified verion of do_twice to call print_twice twice, passing 'spam' as an argument.</h4>"
   ]
  },
  {
   "cell_type": "code",
   "execution_count": null,
   "metadata": {},
   "outputs": [],
   "source": [
    "#These questions aren't hard...these are just...confusing.\n",
    "\n",
    "do_twice(print_twice, \"spam\")"
   ]
  },
  {
   "cell_type": "markdown",
   "metadata": {},
   "source": [
    "<h4>5. Define a new fucntion called do_four that takes a fuction object and a value and calls the fuction four times, passing the value as a parameter. There should be only two statements in the body of this fuction, not four.</h4>"
   ]
  },
  {
   "cell_type": "code",
   "execution_count": null,
   "metadata": {},
   "outputs": [],
   "source": [
    "#Okay...so i have to make a fucntion which calls another fucntion's object four time by using only two statement in body.\n",
    "#Are you expecting me to use do_twice twice in fuction?? or should i handel it in completely new way??\n",
    "\n",
    "#first way...\n",
    "def do_four (object, value):\n",
    "    do_twice(object, value)\n",
    "    do_twice(object, value)\n",
    "#Done??\n",
    "#testing\n",
    "do_four(function_a, \"That's it??\")\n",
    "\n",
    "#There's one funny way to do it.\n",
    "\n",
    "def do_four_another (object, value):\n",
    "    for i in range(4):\n",
    "        object(value)\n",
    "\n",
    "print(\"-\"*50)\n",
    "\n",
    "do_four_another(function_a, \"Or is this ok??\")"
   ]
  },
  {
   "cell_type": "markdown",
   "metadata": {},
   "source": [
    "<h2>Exercise 3-3</h2>"
   ]
  },
  {
   "cell_type": "markdown",
   "metadata": {},
   "source": [
    "<h4>1. Write a fucntion that draws a grid like the following:</br>\n",
    "<pre>\n",
    "+----+----+\n",
    "|    |    |\n",
    "|    |    |\n",
    "|    |    |\n",
    "|    |    |\n",
    "+----+----+\n",
    "|    |    |\n",
    "|    |    |\n",
    "|    |    |\n",
    "|    |    |\n",
    "+----+----+\n",
    "</pre></h4>"
   ]
  },
  {
   "cell_type": "code",
   "execution_count": null,
   "metadata": {},
   "outputs": [],
   "source": [
    "#You can read hints...\n",
    "#Firs Ill make exactly same grid then am thinking to take arguments to create as big grid as we want...let's see...\n",
    "#Since there's no restriction on we should take arguments or not and how many functions we can create...I'll take it.\n",
    "\n",
    "def horizontal_line (dash, column):\n",
    "    \"\"\"\n",
    "    Arguments:\n",
    "    dash    => what should be the width of box\n",
    "    column  => how many columns \n",
    "    \"\"\"\n",
    "    print(f\"+{\"-\"*dash}\"*column+\"+\")\n",
    "\n",
    "def vertical_lines (line,column,width=4 ):\n",
    "    \"\"\"\n",
    "    Arguments:\n",
    "    line    => what should be the length of box\n",
    "    column  => how many columns\n",
    "    width   => space between two horizontal lines\n",
    "    \"\"\"\n",
    "    one_line= f\"{\"|\"+f\"{\" \"*width}|\"*column}\\n\" # for creating 1 row of multiple columns\n",
    "\n",
    "    print(one_line*line, end=\"\")\n",
    "\n",
    "def grid (dash,line,row,column):\n",
    "\n",
    "    for i in range(row):\n",
    "        horizontal_line(dash,column)\n",
    "        vertical_lines(line,column, width=dash)\n",
    "    horizontal_line(dash,column)\n",
    "\n",
    "#For identical solution\n",
    "# grid (4,4,2,2)\n",
    "\n",
    "#experiments:\n",
    "grid(4,2,8,8) #Chess board\n"
   ]
  },
  {
   "cell_type": "markdown",
   "metadata": {},
   "source": [
    "<h4>2. Write a fuction that draws a similar grid with four rows and four columns.</h4>"
   ]
  },
  {
   "cell_type": "code",
   "execution_count": null,
   "metadata": {},
   "outputs": [],
   "source": [
    "#hehe I accedently solved this question in question 1....\n",
    "\n",
    "\"\"\"Also for solution of exercise 3-3 question 1 if you want to make literally same grid without making it customizable... just hard code it...simple. wait...\"\"\"\n",
    "\n",
    "def normal_grid (row, column):\n",
    "        for i in range(row):\n",
    "            print(\"+----\"*column+\"+\")\n",
    "            print(f\"{\"|    \"*column}|\\n\"*4, end=\"\")\n",
    "        print(\"+----\"*column+\"+\")\n",
    "\n",
    "# normal_grid(2,2) #Done for question 1\n",
    "normal_grid(4,4) #Done for question 2"
   ]
  },
  {
   "cell_type": "markdown",
   "metadata": {},
   "source": [
    "<h2>Questions from 3rd Edition</h2>"
   ]
  },
  {
   "cell_type": "markdown",
   "metadata": {},
   "source": [
    "<h4>Write a function called triangle that takes a string and an integer and draws a pyramid with\n",
    "the given height, made up using copies of the string. Here’s an example of a pyramid with 5\n",
    "levels, using the string 'L' .</h4>"
   ]
  },
  {
   "cell_type": "code",
   "execution_count": 22,
   "metadata": {},
   "outputs": [
    {
     "name": "stdout",
     "output_type": "stream",
     "text": [
      "\n",
      "*\n",
      "**\n",
      "***\n",
      "****\n",
      "*****\n"
     ]
    }
   ],
   "source": [
    "#Easy...let's do it.\n",
    "\n",
    "def triangle (string, level):\n",
    "    for i in range(level+1):\n",
    "        print(string*i)\n",
    "\n",
    "triangle(\"*\",5)\n",
    "#Done."
   ]
  },
  {
   "cell_type": "markdown",
   "metadata": {},
   "source": [
    "<h4>Write a function called rectangle that takes a string and two integers and draws a rectangle\n",
    "with the given width and height, made up using copies of the string. Here’s an example of a\n",
    "rectangle with width 5 and height 4 , made up of the string 'H' .</h4>"
   ]
  },
  {
   "cell_type": "code",
   "execution_count": 27,
   "metadata": {},
   "outputs": [
    {
     "name": "stdout",
     "output_type": "stream",
     "text": [
      "@@@@@\n",
      "@@@@@\n",
      "@@@@@\n",
      "@@@@@\n",
      "@@@@@\n"
     ]
    }
   ],
   "source": [
    "#same as previous one...just insted of i we will multiply with width.\n",
    "\n",
    "def rectangle(string, widht, height):\n",
    "    for i in range(height+1):\n",
    "        print(string*widht)\n",
    "\n",
    "rectangle(\"@\",5,4)"
   ]
  },
  {
   "cell_type": "markdown",
   "metadata": {},
   "source": [
    "<h4>The song “99 Bottles of Beer” starts with this verse:</br>\n",
    "<pre>\n",
    "99 bottles of beer on the wall\n",
    "99 bottles of beer\n",
    "Take one down, pass it around\n",
    "98 bottles of beer on the wall\n",
    "</pre>\n",
    "Then the second verse is the same, except that it starts with 98 bottles and ends with 97. The\n",
    "song continues – for a very long time – until there are 0 bottles of beer.\n",
    "Write a function called bottle_verse that takes a number as a parameter and displays the\n",
    "verse that starts with the given number of bottles</h4>"
   ]
  },
  {
   "cell_type": "code",
   "execution_count": null,
   "metadata": {},
   "outputs": [],
   "source": [
    "#My first instinct was to use while loop...but we aren't there yet...so we'll use for loop only.\n",
    "#Fun Fact: You can use single quotes(' '), double quotes (\" \") AND triple quotes (\"\"\" \"\"\") for storing the string...\n",
    "\"\"\" Uses of Triple Quotes:\n",
    "1. Can be used for Multiline comments, you dont have to put # before every line, if you are writing too many notes together (like this one).\n",
    "2. Used for DocString inside functions or classes (we will see later). \n",
    "3. Can be used for storing normal strings, Pro of using triple quotes is it presevers the order in which string is written, you don't have to use \\n... (see in this solution)\n",
    "\"\"\"\n",
    "\n",
    "def bottle_verse(number):\n",
    "    \n",
    "    bottles= number\n",
    "\n",
    "    for i in range (number):\n",
    "        print(f\"\"\"\n",
    "{bottles} bottles of beer on the wall\n",
    "{bottles} bottles of beer\n",
    "Take one down, pass it around\n",
    "{bottles-1} bottles of beer on the wall\n",
    "\"\"\", end=\"\")\n",
    "        bottles -=1 # -= is known as decrement operator, we will use more of these later on. same statment can be written as... bottles = bottles-1\n",
    "\n",
    "bottle_verse(3)"
   ]
  }
 ],
 "metadata": {
  "kernelspec": {
   "display_name": "Python 3",
   "language": "python",
   "name": "python3"
  },
  "language_info": {
   "codemirror_mode": {
    "name": "ipython",
    "version": 3
   },
   "file_extension": ".py",
   "mimetype": "text/x-python",
   "name": "python",
   "nbconvert_exporter": "python",
   "pygments_lexer": "ipython3",
   "version": "3.12.5"
  }
 },
 "nbformat": 4,
 "nbformat_minor": 2
}
