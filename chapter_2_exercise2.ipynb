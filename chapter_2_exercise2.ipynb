{
 "cells": [
  {
   "cell_type": "markdown",
   "metadata": {},
   "source": [
    "<h1>Variables, Expressions and Statements</h1>"
   ]
  },
  {
   "cell_type": "markdown",
   "metadata": {},
   "source": [
    "<h2>Exercise 2-2.</h2>"
   ]
  },
  {
   "cell_type": "markdown",
   "metadata": {},
   "source": [
    "<h3>Practice using the Python interpreter as a calculator:</h3>"
   ]
  },
  {
   "cell_type": "markdown",
   "metadata": {},
   "source": [
    "<h4>1. The volume of a sphere with radius r is (4/3)πr^3. What is the volume of a sphere with radius 5?</h4>"
   ]
  },
  {
   "cell_type": "code",
   "execution_count": 1,
   "metadata": {},
   "outputs": [
    {
     "name": "stdout",
     "output_type": "stream",
     "text": [
      "The volume of sphere with radius 5 would be 523.598 units\n"
     ]
    }
   ],
   "source": [
    "# Let's just put things is variables...you know..a good practice..\n",
    "\n",
    "radius= 5\n",
    "pi= 3.14159 # this is all I know...for better value you can use math modlue to get value of pi as math.pi\n",
    "#We got radius and pi...all that is left is just to put these things into formula...\n",
    "\n",
    "volume= (4/3)*pi*(radius**3) #using brackets are good way to ensure that the equation works expectedly.\n",
    "\n",
    "rounded_volume= round(volume, 3) #round fuction helps to round value to given digits after decimel...in this case 3 digits.\n",
    "\n",
    "print(f\"The volume of sphere with radius 5 would be {rounded_volume} units\")"
   ]
  },
  {
   "cell_type": "markdown",
   "metadata": {},
   "source": [
    "<h4>2. Suppose the cover price of a book is $24.95, but bookstores get a 40% discount. </br>\n",
    "Shipping costs $3 for the first copy and 75 cents for each additional copy.</br>\n",
    "What is the total wholesale cost for 60 copies?</h4>"
   ]
  },
  {
   "cell_type": "code",
   "execution_count": 2,
   "metadata": {},
   "outputs": [
    {
     "name": "stdout",
     "output_type": "stream",
     "text": [
      "Wholesale cost for 60 copies (in first case) would be $945.45 and $1122.45 in second case.\n"
     ]
    }
   ],
   "source": [
    "# What I understood form this question is there's a book of 24.95 dollors and it has 40% discount on it. so final value should be 24.95-40%.\n",
    "#First copy will cause 3 dollors as shipping charge...and for rest that is for 59 copies will it be 75 cents per copy or 3.75 dollors per copy.\n",
    "#Let's just give answer in both cases...\n",
    "\n",
    "book_price=24.95\n",
    "\n",
    "#Ok so for 40% what we can do is...we can just multiply 24.95 by 0.40 that will give us 40% of 24.95 and then subtract it from 24.95 to get the final value\n",
    "final_book_price= 24.95-(24.95*0.40)\n",
    "rounded_final_book_price= round(final_book_price, 2) # You know why i did this.\n",
    "\n",
    "#total price for first book will be final_book_price + shipping costs\n",
    "first_book= rounded_final_book_price + 3\n",
    "\n",
    "#Case 1:\n",
    "#for rest of the books if additional shipping cost is 75 cents per copy.\n",
    "\n",
    "rest_books_1= (rounded_final_book_price+0.75)*59 # for rest 59 copies.\n",
    "total_wholesale_cost_1= first_book+rest_books_1 #945.45 dollors or 945 dollor 45 cents\n",
    "\n",
    "#Case 2:\n",
    "#for rest of the books if additional shipping cost is 3.75 dollors per copy.\n",
    "\n",
    "rest_books_2= (rounded_final_book_price+3.75)*59\n",
    "total_wholesale_cost_2= first_book+rest_books_2 #1122.45 dollors or 1122 dollor 45 cents\n",
    "\n",
    "print(f\"Wholesale cost for 60 copies (in first case) would be ${total_wholesale_cost_1} and ${total_wholesale_cost_2} in second case.\")"
   ]
  },
  {
   "cell_type": "markdown",
   "metadata": {},
   "source": [
    "<h4>3. If I leave my house at 6:52 am and run 1 mile at an easy pace (8:15 per mile), then 3 miles at tempo (7:12 per mile) </br>\n",
    "and 1 mile at an easy pace again, what time do i get home for breakfast?</h4>"
   ]
  },
  {
   "cell_type": "code",
   "execution_count": 3,
   "metadata": {},
   "outputs": [
    {
     "name": "stdout",
     "output_type": "stream",
     "text": [
      "You will get home for breakfast at 7:30:06am\n"
     ]
    }
   ],
   "source": [
    "\"\"\"This question is just irritating for me...because we are dealing with time which has base 6 insted of base 10, \n",
    "so I really don't know right now how will I solve it...let's just go through what information do we have...\"\"\"\n",
    "\n",
    "\"\"\" 1. He leaves house at 6:52 so that will be our initial time\n",
    "    2. He takes 2 miles at an easy pace of 8:15 per mile so for 2 miles it will be (8:15)*2 ... 16:30 minute\n",
    "    3. He takes 3 miles at tempo pace of 7:12 per mile so for 3 miles it will be (7:12)*3 ... 21:36 minute\n",
    "    4. Adding these values to initial time we will get our answer.\n",
    "\n",
    "16:30 minute + 21:36 minute = 37:66 = 38:06 minute... (1)\n",
    "52:00 minute + 38:06 minute  = 90:06 minute => 1:30:06 hours... (2)\n",
    "\n",
    "adding this to initial time will be\n",
    "6:00:00 + 1:30:06 since i added 52 minutes already (2)\n",
    "final time => 7:30:06 AM.\n",
    "\n",
    "Now I just have to write code for this solution somehow.\"\"\"\n",
    "#Well how about adding everything in seconds only and then divide it by 60 to get minutes and remender as seconds then add that into our initial time.\n",
    "initial_hour=6\n",
    "initial_minute=52\n",
    "\n",
    "easy_pace_in_seconds= (8*60)+15 # converting 8:15 minutes into seconds only.\n",
    "total_easy_pace= easy_pace_in_seconds*2 # for 2 easy miles ...\n",
    "\n",
    "tempo_pace_in_seconds= (7*60)+12 # converting 7:15 minutes into seconds only.\n",
    "total_tempo_pace= tempo_pace_in_seconds*3 # for 3 tempo miles ...\n",
    "\n",
    "total_running_time_in_seconds=total_easy_pace+total_tempo_pace\n",
    "total_running_time_in_minutes= total_running_time_in_seconds//60 # since we are only caring about minutes.\n",
    "\n",
    "added_minute= initial_minute+ total_running_time_in_minutes\n",
    "final_time= f\"{initial_hour+(added_minute//60)}:{added_minute%60}:0{total_running_time_in_seconds%60}am\"\n",
    "\n",
    "print(f\"You will get home for breakfast at {final_time}\")\n",
    "\n",
    "#I used too explicit variable names to keep it super clear, but you can choose your own obvisouly, also suggest some good names to me too...please..."
   ]
  },
  {
   "cell_type": "markdown",
   "metadata": {},
   "source": [
    "<h4>4. A rule of trigonometry says that for any value of x, (cos⁡ x)^2+(sin⁡ x)^2 =1. Let’s see if\n",
    "it’s true for a specific value of x like 42. (Question from 3rd Edition)</h4>"
   ]
  },
  {
   "cell_type": "code",
   "execution_count": 4,
   "metadata": {},
   "outputs": [
    {
     "name": "stdout",
     "output_type": "stream",
     "text": [
      "1.0\n"
     ]
    }
   ],
   "source": [
    "import math\n",
    "print((math.cos(42))**2 + (math.sin(42))**2)\n",
    "\n",
    "#Honestly I don't think there's much to it...just use math module and then math.cos math.sin thats it naah...put everthing in equation and done."
   ]
  }
 ],
 "metadata": {
  "kernelspec": {
   "display_name": "Python 3",
   "language": "python",
   "name": "python3"
  },
  "language_info": {
   "codemirror_mode": {
    "name": "ipython",
    "version": 3
   },
   "file_extension": ".py",
   "mimetype": "text/x-python",
   "name": "python",
   "nbconvert_exporter": "python",
   "pygments_lexer": "ipython3",
   "version": "3.12.5"
  }
 },
 "nbformat": 4,
 "nbformat_minor": 2
}
